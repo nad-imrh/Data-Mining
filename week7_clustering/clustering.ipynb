{
 "cells": [
  {
   "cell_type": "markdown",
   "id": "6fcb4978",
   "metadata": {},
   "source": [
    "# **NADILA IMAARAH - 3323600015 - 2 SDT A**"
   ]
  },
  {
   "cell_type": "markdown",
   "id": "88243615",
   "metadata": {},
   "source": [
    "# **1. dataset = transaction.csv, dan tampilkan**"
   ]
  },
  {
   "cell_type": "code",
   "execution_count": 14,
   "id": "3cb94110",
   "metadata": {},
   "outputs": [],
   "source": [
    "import pandas as pd\n",
    "import matplotlib.pyplot as plt\n",
    "from scipy.cluster.hierarchy import linkage, fcluster\n",
    "from scipy.spatial.distance import pdist\n",
    "import numpy as np\n",
    "import matplotlib.pyplot as plt"
   ]
  },
  {
   "cell_type": "code",
   "execution_count": 15,
   "id": "932fd9d0",
   "metadata": {},
   "outputs": [
    {
     "data": {
      "text/html": [
       "<div>\n",
       "<style scoped>\n",
       "    .dataframe tbody tr th:only-of-type {\n",
       "        vertical-align: middle;\n",
       "    }\n",
       "\n",
       "    .dataframe tbody tr th {\n",
       "        vertical-align: top;\n",
       "    }\n",
       "\n",
       "    .dataframe thead th {\n",
       "        text-align: right;\n",
       "    }\n",
       "</style>\n",
       "<table border=\"1\" class=\"dataframe\">\n",
       "  <thead>\n",
       "    <tr style=\"text-align: right;\">\n",
       "      <th></th>\n",
       "      <th>InvoiceNo</th>\n",
       "      <th>StockCode</th>\n",
       "      <th>Qty</th>\n",
       "      <th>InvoiceDate</th>\n",
       "      <th>CustomerID</th>\n",
       "      <th>Country</th>\n",
       "    </tr>\n",
       "  </thead>\n",
       "  <tbody>\n",
       "    <tr>\n",
       "      <th>0</th>\n",
       "      <td>537626</td>\n",
       "      <td>22725</td>\n",
       "      <td>830</td>\n",
       "      <td>12/7/2010 14:57</td>\n",
       "      <td>12347</td>\n",
       "      <td>Iceland</td>\n",
       "    </tr>\n",
       "    <tr>\n",
       "      <th>1</th>\n",
       "      <td>537626</td>\n",
       "      <td>22729</td>\n",
       "      <td>948</td>\n",
       "      <td>12/7/2010 14:57</td>\n",
       "      <td>12347</td>\n",
       "      <td>Iceland</td>\n",
       "    </tr>\n",
       "    <tr>\n",
       "      <th>2</th>\n",
       "      <td>537626</td>\n",
       "      <td>22195</td>\n",
       "      <td>695</td>\n",
       "      <td>12/7/2010 14:57</td>\n",
       "      <td>12347</td>\n",
       "      <td>Iceland</td>\n",
       "    </tr>\n",
       "    <tr>\n",
       "      <th>3</th>\n",
       "      <td>542237</td>\n",
       "      <td>22725</td>\n",
       "      <td>636</td>\n",
       "      <td>1/26/2011 14:30</td>\n",
       "      <td>12347</td>\n",
       "      <td>Iceland</td>\n",
       "    </tr>\n",
       "    <tr>\n",
       "      <th>4</th>\n",
       "      <td>542237</td>\n",
       "      <td>22729</td>\n",
       "      <td>536</td>\n",
       "      <td>1/26/2011 14:30</td>\n",
       "      <td>12347</td>\n",
       "      <td>Iceland</td>\n",
       "    </tr>\n",
       "    <tr>\n",
       "      <th>...</th>\n",
       "      <td>...</td>\n",
       "      <td>...</td>\n",
       "      <td>...</td>\n",
       "      <td>...</td>\n",
       "      <td>...</td>\n",
       "      <td>...</td>\n",
       "    </tr>\n",
       "    <tr>\n",
       "      <th>10541</th>\n",
       "      <td>543911</td>\n",
       "      <td>21700</td>\n",
       "      <td>455</td>\n",
       "      <td>2/14/2011 12:46</td>\n",
       "      <td>17829</td>\n",
       "      <td>United Arab Emirates</td>\n",
       "    </tr>\n",
       "    <tr>\n",
       "      <th>10542</th>\n",
       "      <td>543911</td>\n",
       "      <td>22111</td>\n",
       "      <td>578</td>\n",
       "      <td>2/14/2011 12:46</td>\n",
       "      <td>17829</td>\n",
       "      <td>United Arab Emirates</td>\n",
       "    </tr>\n",
       "    <tr>\n",
       "      <th>10543</th>\n",
       "      <td>543911</td>\n",
       "      <td>22112</td>\n",
       "      <td>163</td>\n",
       "      <td>2/14/2011 12:46</td>\n",
       "      <td>17829</td>\n",
       "      <td>United Arab Emirates</td>\n",
       "    </tr>\n",
       "    <tr>\n",
       "      <th>10544</th>\n",
       "      <td>564428</td>\n",
       "      <td>23296</td>\n",
       "      <td>545</td>\n",
       "      <td>8/25/2011 11:27</td>\n",
       "      <td>17844</td>\n",
       "      <td>Canada</td>\n",
       "    </tr>\n",
       "    <tr>\n",
       "      <th>10545</th>\n",
       "      <td>564428</td>\n",
       "      <td>23294</td>\n",
       "      <td>643</td>\n",
       "      <td>8/25/2011 11:27</td>\n",
       "      <td>17844</td>\n",
       "      <td>Canada</td>\n",
       "    </tr>\n",
       "  </tbody>\n",
       "</table>\n",
       "<p>10546 rows × 6 columns</p>\n",
       "</div>"
      ],
      "text/plain": [
       "       InvoiceNo  StockCode  Qty      InvoiceDate  CustomerID  \\\n",
       "0         537626      22725  830  12/7/2010 14:57       12347   \n",
       "1         537626      22729  948  12/7/2010 14:57       12347   \n",
       "2         537626      22195  695  12/7/2010 14:57       12347   \n",
       "3         542237      22725  636  1/26/2011 14:30       12347   \n",
       "4         542237      22729  536  1/26/2011 14:30       12347   \n",
       "...          ...        ...  ...              ...         ...   \n",
       "10541     543911      21700  455  2/14/2011 12:46       17829   \n",
       "10542     543911      22111  578  2/14/2011 12:46       17829   \n",
       "10543     543911      22112  163  2/14/2011 12:46       17829   \n",
       "10544     564428      23296  545  8/25/2011 11:27       17844   \n",
       "10545     564428      23294  643  8/25/2011 11:27       17844   \n",
       "\n",
       "                    Country  \n",
       "0                   Iceland  \n",
       "1                   Iceland  \n",
       "2                   Iceland  \n",
       "3                   Iceland  \n",
       "4                   Iceland  \n",
       "...                     ...  \n",
       "10541  United Arab Emirates  \n",
       "10542  United Arab Emirates  \n",
       "10543  United Arab Emirates  \n",
       "10544                Canada  \n",
       "10545                Canada  \n",
       "\n",
       "[10546 rows x 6 columns]"
      ]
     },
     "execution_count": 15,
     "metadata": {},
     "output_type": "execute_result"
    }
   ],
   "source": [
    "dataset = pd.read_csv('transaction.csv')\n",
    "dataset"
   ]
  },
  {
   "cell_type": "code",
   "execution_count": 17,
   "id": "988d6119",
   "metadata": {},
   "outputs": [
    {
     "name": "stdout",
     "output_type": "stream",
     "text": [
      "InvoiceNo      0\n",
      "StockCode      0\n",
      "Qty            0\n",
      "InvoiceDate    0\n",
      "CustomerID     0\n",
      "Country        0\n",
      "dtype: int64\n"
     ]
    }
   ],
   "source": [
    "print(dataset.isna().sum())"
   ]
  },
  {
   "cell_type": "markdown",
   "id": "5872cc51",
   "metadata": {},
   "source": [
    "# **2. country = berapa kemunculan tiap negara pada dataset, dan tampilkan**"
   ]
  },
  {
   "cell_type": "markdown",
   "id": "6b5522d9",
   "metadata": {},
   "source": [
    "**ANALISIS**\n",
    "\n",
    "disini saya menhitung jumlah kemunculan nama tiap negara. Disini saya akan menggunakan kolom country saja lalu menggunakan fungsi value_counts() yang akan secara otomatis menghitung banyak kemunculan masing-masing nama negara di kolom country"
   ]
  },
  {
   "cell_type": "code",
   "execution_count": 18,
   "id": "6a8195dc",
   "metadata": {},
   "outputs": [
    {
     "data": {
      "text/plain": [
       "Country\n",
       "Germany                 2269\n",
       "France                  2109\n",
       "EIRE                    1620\n",
       "Netherlands              634\n",
       "Spain                    539\n",
       "Belgium                  486\n",
       "Switzerland              434\n",
       "Portugal                 367\n",
       "Australia                356\n",
       "Norway                   239\n",
       "Italy                    190\n",
       "Channel Islands          184\n",
       "Finland                  152\n",
       "Cyprus                   113\n",
       "Sweden                   109\n",
       "Denmark                   98\n",
       "Japan                     92\n",
       "Austria                   88\n",
       "Poland                    80\n",
       "Israel                    61\n",
       "USA                       47\n",
       "Singapore                 45\n",
       "Unspecified               44\n",
       "Canada                    36\n",
       "Iceland                   35\n",
       "Greece                    33\n",
       "United Arab Emirates      23\n",
       "Malta                     15\n",
       "RSA                       14\n",
       "Brazil                     8\n",
       "Lithuania                  8\n",
       "Lebanon                    5\n",
       "European Community         5\n",
       "Czech Republic             4\n",
       "Bahrain                    3\n",
       "Saudi Arabia               1\n",
       "Name: count, dtype: int64"
      ]
     },
     "execution_count": 18,
     "metadata": {},
     "output_type": "execute_result"
    }
   ],
   "source": [
    "country_counts = dataset[\"Country\"].value_counts()\n",
    "country_counts"
   ]
  },
  {
   "cell_type": "markdown",
   "id": "0eb7747a",
   "metadata": {},
   "source": [
    "**ANALISIS**\n",
    "\n",
    "disini saya menhitung jumlah kemunculan nama tiap negara. Disini saya akan menggunakan kolom country saja lalu menggunakan fungsi value_counts() yang akan secara otomatis menghitung banyak kemunculan masing-masing nama negara di kolom country"
   ]
  },
  {
   "cell_type": "markdown",
   "id": "93c38a69",
   "metadata": {},
   "source": [
    "# **3. transaksi = hitunglah banyaknya transaksi pada tiap negara (1 kode InvoiceNo =1 transaksi)**"
   ]
  },
  {
   "cell_type": "markdown",
   "id": "860684d8",
   "metadata": {},
   "source": [
    "**ANALISIS**\n",
    "\n",
    "Disini saya akan mengelompokkan data berdasarkan negara di kolom country dengan menggunakan fungsi groupby, setelah dikelompokkkan per negara akan dilakukan menghitung jumlah Invoice No setiap negara dengan menggunakan fungsi nunique(). InvoiceNo ini yang dihitung yang nilainya unik dan tidak duplikat jadi  kalau di data ada 3 baris dengan InvoiceNo yang sama, itu hanya dihitung 1 transaksi, bukan 3"
   ]
  },
  {
   "cell_type": "code",
   "execution_count": 19,
   "id": "19f632ba",
   "metadata": {},
   "outputs": [
    {
     "name": "stdout",
     "output_type": "stream",
     "text": [
      "\n",
      "Jumlah transaksi per negara:\n",
      "                 Country  TransactionCount\n",
      "0              Australia                44\n",
      "1                Austria                12\n",
      "2                Bahrain                 1\n",
      "3                Belgium                84\n",
      "4                 Brazil                 1\n",
      "5                 Canada                 3\n",
      "6        Channel Islands                21\n",
      "7                 Cyprus                16\n",
      "8         Czech Republic                 2\n",
      "9                Denmark                18\n",
      "10                  EIRE               224\n",
      "11    European Community                 3\n",
      "12               Finland                26\n",
      "13                France               344\n",
      "14               Germany               377\n",
      "15                Greece                 5\n",
      "16               Iceland                 6\n",
      "17                Israel                 4\n",
      "18                 Italy                31\n",
      "19                 Japan                14\n",
      "20               Lebanon                 1\n",
      "21             Lithuania                 2\n",
      "22                 Malta                 2\n",
      "23           Netherlands                76\n",
      "24                Norway                28\n",
      "25                Poland                17\n",
      "26              Portugal                43\n",
      "27                   RSA                 1\n",
      "28          Saudi Arabia                 1\n",
      "29             Singapore                 4\n",
      "30                 Spain                72\n",
      "31                Sweden                26\n",
      "32           Switzerland                41\n",
      "33                   USA                 5\n",
      "34  United Arab Emirates                 2\n",
      "35           Unspecified                 8\n"
     ]
    }
   ],
   "source": [
    "trans_by_country = dataset.groupby('Country')['InvoiceNo'].nunique().reset_index()\n",
    "trans_by_country.columns = ['Country', 'TransactionCount']\n",
    "print(\"\\nJumlah transaksi per negara:\")\n",
    "print(trans_by_country)\n"
   ]
  },
  {
   "cell_type": "markdown",
   "id": "a31ec9b4",
   "metadata": {},
   "source": [
    "**ANALISIS**\n",
    "\n",
    "Disini saya akan mengelompokkan data berdasarkan negara di kolom country dengan menggunakan fungsi groupby, setelah dikelompokkkan per negara akan dilakukan menghitung jumlah Invoice No setiap negara dengan menggunakan fungsi nunique(). InvoiceNo ini yang dihitung yang nilainya unik dan tidak duplikat jadi  kalau di data ada 3 baris dengan InvoiceNo yang sama, itu hanya dihitung 1 transaksi, bukan 3"
   ]
  },
  {
   "cell_type": "markdown",
   "id": "45337d18",
   "metadata": {},
   "source": [
    "# **4. cluster = lakukan clustering pada transaksi dengan Average Linkage, dengan k=3**"
   ]
  },
  {
   "cell_type": "code",
   "execution_count": 20,
   "id": "c2d70d09",
   "metadata": {},
   "outputs": [],
   "source": [
    "Z = linkage(trans_by_country[['TransactionCount']], method='average')\n",
    "clusters = fcluster(Z, 3, criterion='maxclust')\n",
    "trans_by_country['Cluster'] = clusters"
   ]
  },
  {
   "cell_type": "markdown",
   "id": "cacf82b4",
   "metadata": {},
   "source": [
    "**ANALISIS**\n",
    "\n",
    "pertama menghitung jarak antar negara berdasarkan banyak transaksinya\n",
    "\n",
    " kemudian untuk mengabungkan kelompok  yakni dengan cara menghitung jaraknya akan di ukur dari rata-rata jarak antar anggota kelompok dengan method=average. \n",
    " \n",
    " Setelah itu melakukan cluster sebanyak 3 cluster dan kemudian menambah kolom baru bernama cluster yang berisi label cluster setiap negara"
   ]
  },
  {
   "cell_type": "markdown",
   "id": "93fc6add",
   "metadata": {},
   "source": [
    "di sini saya akan melakukan pengelompokkan berdasrakan jumlah transaksi, dengan cara memandingkan  seberapa mirip atau bedanya jumlah transaksi antar negara, lalu membentuk hubungan antar negara berdasarkan kemiripan tersebut.Dari hasil pengelompokkkan ini dilakukan cluser dalam 3 cluster saja. Setelah itu membuat kolom baru Bernama cluster sehingga setiap negara sekarang punya label kelompok (misalnya Cluster 1, 2, atau 3), sesuai hasil pengelompokan."
   ]
  },
  {
   "cell_type": "markdown",
   "id": "23af523d",
   "metadata": {},
   "source": [
    "# **5. centroid = tentukan posisi centroid dari setiap cluster**"
   ]
  },
  {
   "cell_type": "code",
   "execution_count": 21,
   "id": "f8b19aba",
   "metadata": {},
   "outputs": [
    {
     "data": {
      "text/html": [
       "<div>\n",
       "<style scoped>\n",
       "    .dataframe tbody tr th:only-of-type {\n",
       "        vertical-align: middle;\n",
       "    }\n",
       "\n",
       "    .dataframe tbody tr th {\n",
       "        vertical-align: top;\n",
       "    }\n",
       "\n",
       "    .dataframe thead th {\n",
       "        text-align: right;\n",
       "    }\n",
       "</style>\n",
       "<table border=\"1\" class=\"dataframe\">\n",
       "  <thead>\n",
       "    <tr style=\"text-align: right;\">\n",
       "      <th></th>\n",
       "      <th>Cluster</th>\n",
       "      <th>Centroid</th>\n",
       "    </tr>\n",
       "  </thead>\n",
       "  <tbody>\n",
       "    <tr>\n",
       "      <th>0</th>\n",
       "      <td>1</td>\n",
       "      <td>18.787879</td>\n",
       "    </tr>\n",
       "    <tr>\n",
       "      <th>1</th>\n",
       "      <td>2</td>\n",
       "      <td>360.500000</td>\n",
       "    </tr>\n",
       "    <tr>\n",
       "      <th>2</th>\n",
       "      <td>3</td>\n",
       "      <td>224.000000</td>\n",
       "    </tr>\n",
       "  </tbody>\n",
       "</table>\n",
       "</div>"
      ],
      "text/plain": [
       "   Cluster    Centroid\n",
       "0        1   18.787879\n",
       "1        2  360.500000\n",
       "2        3  224.000000"
      ]
     },
     "execution_count": 21,
     "metadata": {},
     "output_type": "execute_result"
    }
   ],
   "source": [
    "centroids = trans_by_country.groupby('Cluster')['TransactionCount'].mean().reset_index()\n",
    "centroids.columns = ['Cluster', 'Centroid']\n",
    "centroids\n",
    "\n",
    "\n"
   ]
  },
  {
   "cell_type": "markdown",
   "id": "b05075b6",
   "metadata": {},
   "source": [
    "**ANALISIS**\n",
    "\n",
    "Setelah melakukan cluster disini mengelompokkan negara berdasarkan cluster 1,2 dan 3 dengan menggunakan groupby. Kemudian dihitung centroid dari setiap cluster,centroid ini dihitung dari rata-rata fitur TransactionCount"
   ]
  },
  {
   "cell_type": "markdown",
   "id": "79470e7b",
   "metadata": {},
   "source": [
    "# **6. sorted = lakukan pengurutan posisi centroid secara ascending**"
   ]
  },
  {
   "cell_type": "code",
   "execution_count": 22,
   "id": "3fd8f476",
   "metadata": {},
   "outputs": [
    {
     "name": "stdout",
     "output_type": "stream",
     "text": [
      "   Cluster    Centroid\n",
      "0        1   18.787879\n",
      "1        3  224.000000\n",
      "2        2  360.500000\n"
     ]
    }
   ],
   "source": [
    "sorted_centroids = centroids.sort_values('Centroid').reset_index(drop=True)\n",
    "print(sorted_centroids)"
   ]
  },
  {
   "cell_type": "markdown",
   "id": "b77ee362",
   "metadata": {},
   "source": [
    "**ANALISIS**\n",
    "\n",
    "Hasil centroid sebelumnya akan diurutkan pada tahap ini. Pengurutan didasarkan pada value dari transaksi dengan metode pengurutan ascending (dari kecil ke besar)."
   ]
  },
  {
   "cell_type": "markdown",
   "id": "5189ec38",
   "metadata": {},
   "source": [
    "# **7. Indeks terdepan dari centroid setelah pengurutan, mengindikasikan cluster transanksi rendah. Indeks terakhir dari centroid setelah pengurutan, mengindikasikan cluster transanksi tinggi. Indeks di antaranya, mengindikasikan cluster transanksi sedang. Tampilkan negara mana saja yang transaksinya rendah, sedang dan tinggi.**"
   ]
  },
  {
   "cell_type": "code",
   "execution_count": 23,
   "id": "e17448de",
   "metadata": {},
   "outputs": [],
   "source": [
    "level_labels = ['Rendah', 'Sedang', 'Tinggi']\n",
    "cluster_level_map = {\n",
    "    cluster_id: level\n",
    "    for cluster_id, level in zip(sorted_centroids['Cluster'], level_labels)\n",
    "}\n",
    "trans_by_country['Level'] = trans_by_country['Cluster'].map(cluster_level_map)\n",
    "remap_cluster_id = {old: new for old, new in zip(sorted_centroids['Cluster'], [1, 2, 3])}\n",
    "trans_by_country['Cluster'] = trans_by_country['Cluster'].map(remap_cluster_id)\n"
   ]
  },
  {
   "cell_type": "markdown",
   "id": "bdd49d97",
   "metadata": {},
   "source": [
    "**ANALISIS**\n",
    "\n",
    "Mmebuat label cluster dari rendah,sedang dan tinggi.\n",
    "\n",
    "kemudian membuat  dictionary  cluster_level_map untuk memetakan cluster berdasarkan centroid yang telah didapatkan, didalam dictionary ini  ada zip(sorted_centroids['Cluster'], level_labels)  Menggabungkan cluster ID yang sudah diurutkan (dari kecil ke besar) dengan label\n",
    "\n",
    "Pada bagian trans_by_counts = menambahkan kolom baru yakni level yang diisi berdasarkan cluster_level_map. kolom level ini berisikan keteranagn cluster itu rendah atau tinggi  \n",
    "\n",
    "pada bagian remap_cluster_id disini akan membuat cluster 1 rendah,cluster 2 sedang dan cluster 3 tinggi\n",
    "\n"
   ]
  },
  {
   "cell_type": "code",
   "execution_count": 24,
   "id": "4288148c",
   "metadata": {},
   "outputs": [
    {
     "name": "stdout",
     "output_type": "stream",
     "text": [
      "\n",
      "Hasil clustering semua negara:\n",
      "                 Country  TransactionCount  Cluster   Level\n",
      "2                Bahrain                 1        1  Rendah\n",
      "4                 Brazil                 1        1  Rendah\n",
      "28          Saudi Arabia                 1        1  Rendah\n",
      "27                   RSA                 1        1  Rendah\n",
      "20               Lebanon                 1        1  Rendah\n",
      "8         Czech Republic                 2        1  Rendah\n",
      "22                 Malta                 2        1  Rendah\n",
      "21             Lithuania                 2        1  Rendah\n",
      "34  United Arab Emirates                 2        1  Rendah\n",
      "5                 Canada                 3        1  Rendah\n",
      "11    European Community                 3        1  Rendah\n",
      "17                Israel                 4        1  Rendah\n",
      "29             Singapore                 4        1  Rendah\n",
      "33                   USA                 5        1  Rendah\n",
      "15                Greece                 5        1  Rendah\n",
      "16               Iceland                 6        1  Rendah\n",
      "35           Unspecified                 8        1  Rendah\n",
      "1                Austria                12        1  Rendah\n",
      "19                 Japan                14        1  Rendah\n",
      "7                 Cyprus                16        1  Rendah\n",
      "25                Poland                17        1  Rendah\n",
      "9                Denmark                18        1  Rendah\n",
      "6        Channel Islands                21        1  Rendah\n",
      "12               Finland                26        1  Rendah\n",
      "31                Sweden                26        1  Rendah\n",
      "24                Norway                28        1  Rendah\n",
      "18                 Italy                31        1  Rendah\n",
      "32           Switzerland                41        1  Rendah\n",
      "26              Portugal                43        1  Rendah\n",
      "0              Australia                44        1  Rendah\n",
      "30                 Spain                72        1  Rendah\n",
      "23           Netherlands                76        1  Rendah\n",
      "3                Belgium                84        1  Rendah\n",
      "10                  EIRE               224        2  Sedang\n",
      "13                France               344        3  Tinggi\n",
      "14               Germany               377        3  Tinggi\n"
     ]
    }
   ],
   "source": [
    "print(\"\\nHasil clustering semua negara:\")\n",
    "print(trans_by_country.sort_values('TransactionCount', \n",
    "                                   ascending=True)[['Country', 'TransactionCount',\n",
    "                                                     'Cluster', 'Level']])\n"
   ]
  },
  {
   "cell_type": "markdown",
   "id": "7d02b387",
   "metadata": {},
   "source": [
    "# **8. Visualisasi dengan warna yang berbeda untuk hasil cluster (no. 7), dimana sumbu x=urutan country dan sumbu y=transaksi**"
   ]
  },
  {
   "cell_type": "code",
   "execution_count": 25,
   "id": "73ba377e",
   "metadata": {},
   "outputs": [
    {
     "data": {
      "image/png": "[encoded data removed]",
      "text/plain": [
       "<Figure size 1200x600 with 1 Axes>"
      ]
     },
     "metadata": {},
     "output_type": "display_data"
    }
   ],
   "source": [
    "level_order = ['Rendah', 'Sedang', 'Tinggi']\n",
    "trans_by_country['Level'] = pd.Categorical(trans_by_country['Level'], categories=level_order, ordered=True)\n",
    "trans_by_country_sorted = trans_by_country.sort_values(['Level', 'TransactionCount'], ascending=[True, False])\n",
    "\n",
    "color_map = {'Rendah': 'blue', 'Sedang': 'yellow', 'Tinggi': 'red'}\n",
    "colors = trans_by_country_sorted['Level'].map(color_map)\n",
    "plt.figure(figsize=(12, 6))\n",
    "plt.bar(trans_by_country_sorted['Country'], trans_by_country_sorted['TransactionCount'], color=colors)\n",
    "plt.xticks(rotation=90)\n",
    "plt.xlabel('Country')\n",
    "plt.ylabel('Jumlah Transaksi')\n",
    "plt.title('Clustering Transaksi per Negara (Average Linkage)')\n",
    "plt.tight_layout()\n",
    "plt.show()\n"
   ]
  }
 ],
 "metadata": {
  "kernelspec": {
   "display_name": "Python 3",
   "language": "python",
   "name": "python3"
  },
  "language_info": {
   "codemirror_mode": {
    "name": "ipython",
    "version": 3
   },
   "file_extension": ".py",
   "mimetype": "text/x-python",
   "name": "python",
   "nbconvert_exporter": "python",
   "pygments_lexer": "ipython3",
   "version": "3.11.4"
  }
 },
 "nbformat": 4,
 "nbformat_minor": 5
}
