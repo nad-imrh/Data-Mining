{
  "cells": [
    {
      "cell_type": "markdown",
      "metadata": {
        "id": "VLjbgIox6D1k"
      },
      "source": [
        "## NADILA IMAARAH 3323600015 D4 SAINS DATA TERAPAN A"
      ]
    },
    {
      "cell_type": "code",
      "execution_count": null,
      "metadata": {
        "id": "A0UCXMLm6D1o",
        "outputId": "26c22970-4977-4eb7-8cbc-093c6ca53b2b"
      },
      "outputs": [
        {
          "data": {
            "text/html": [
              "<div>\n",
              "<style scoped>\n",
              "    .dataframe tbody tr th:only-of-type {\n",
              "        vertical-align: middle;\n",
              "    }\n",
              "\n",
              "    .dataframe tbody tr th {\n",
              "        vertical-align: top;\n",
              "    }\n",
              "\n",
              "    .dataframe thead th {\n",
              "        text-align: right;\n",
              "    }\n",
              "</style>\n",
              "<table border=\"1\" class=\"dataframe\">\n",
              "  <thead>\n",
              "    <tr style=\"text-align: right;\">\n",
              "      <th></th>\n",
              "      <th>x</th>\n",
              "      <th>y</th>\n",
              "      <th>label</th>\n",
              "    </tr>\n",
              "  </thead>\n",
              "  <tbody>\n",
              "    <tr>\n",
              "      <th>0</th>\n",
              "      <td>4</td>\n",
              "      <td>53</td>\n",
              "      <td>1</td>\n",
              "    </tr>\n",
              "    <tr>\n",
              "      <th>1</th>\n",
              "      <td>5</td>\n",
              "      <td>63</td>\n",
              "      <td>1</td>\n",
              "    </tr>\n",
              "    <tr>\n",
              "      <th>2</th>\n",
              "      <td>10</td>\n",
              "      <td>59</td>\n",
              "      <td>1</td>\n",
              "    </tr>\n",
              "    <tr>\n",
              "      <th>3</th>\n",
              "      <td>9</td>\n",
              "      <td>77</td>\n",
              "      <td>1</td>\n",
              "    </tr>\n",
              "    <tr>\n",
              "      <th>4</th>\n",
              "      <td>13</td>\n",
              "      <td>49</td>\n",
              "      <td>1</td>\n",
              "    </tr>\n",
              "    <tr>\n",
              "      <th>...</th>\n",
              "      <td>...</td>\n",
              "      <td>...</td>\n",
              "      <td>...</td>\n",
              "    </tr>\n",
              "    <tr>\n",
              "      <th>70</th>\n",
              "      <td>66</td>\n",
              "      <td>23</td>\n",
              "      <td>4</td>\n",
              "    </tr>\n",
              "    <tr>\n",
              "      <th>71</th>\n",
              "      <td>61</td>\n",
              "      <td>25</td>\n",
              "      <td>4</td>\n",
              "    </tr>\n",
              "    <tr>\n",
              "      <th>72</th>\n",
              "      <td>76</td>\n",
              "      <td>27</td>\n",
              "      <td>4</td>\n",
              "    </tr>\n",
              "    <tr>\n",
              "      <th>73</th>\n",
              "      <td>72</td>\n",
              "      <td>31</td>\n",
              "      <td>4</td>\n",
              "    </tr>\n",
              "    <tr>\n",
              "      <th>74</th>\n",
              "      <td>64</td>\n",
              "      <td>30</td>\n",
              "      <td>4</td>\n",
              "    </tr>\n",
              "  </tbody>\n",
              "</table>\n",
              "<p>75 rows × 3 columns</p>\n",
              "</div>"
            ],
            "text/plain": [
              "     x   y  label\n",
              "0    4  53      1\n",
              "1    5  63      1\n",
              "2   10  59      1\n",
              "3    9  77      1\n",
              "4   13  49      1\n",
              "..  ..  ..    ...\n",
              "70  66  23      4\n",
              "71  61  25      4\n",
              "72  76  27      4\n",
              "73  72  31      4\n",
              "74  64  30      4\n",
              "\n",
              "[75 rows x 3 columns]"
            ]
          },
          "execution_count": 67,
          "metadata": {},
          "output_type": "execute_result"
        }
      ],
      "source": [
        "import pandas as pd\n",
        "import numpy as np\n",
        "df = pd.read_csv('ruspini.csv')\n",
        "df"
      ]
    },
    {
      "cell_type": "markdown",
      "metadata": {
        "id": "cTohObaD6D1q"
      },
      "source": [
        "# MEMBUAT NILAI MISSING VALUES"
      ]
    },
    {
      "cell_type": "code",
      "execution_count": null,
      "metadata": {
        "id": "zsUB6rfX6D1q"
      },
      "outputs": [],
      "source": [
        "missingrows = df.sample(7).index\n",
        "df.loc[missingrows,'x'] = np.nan\n",
        "\n",
        "df.to_csv('ruspini_missing.csv', index=False)"
      ]
    },
    {
      "cell_type": "markdown",
      "metadata": {},
      "source": [
        "**ANALISIS**\n",
        "disini saya mencoba untuk membuat data missing dengan cara memilih sample dulu secara acak di sini saya memiliki 7 baris secara acak. Kemudian mendapatkan index dari sampel tersebut,setelah mendapatkan indexnya kemudian dirubahlah nilai ini menjadi nilai nan dengan menggunakan fungsi di numpy yakni np.nan"
      ]
    },
    {
      "cell_type": "markdown",
      "metadata": {
        "id": "glschHX_6D1q"
      },
      "source": [
        "# PENGISIAN NILAI MISSING VALUES"
      ]
    },
    {
      "cell_type": "code",
      "execution_count": null,
      "metadata": {
        "id": "RySf2DQq6D1r",
        "outputId": "e5ca720d-98a0-4b15-fd29-53b245caaa68"
      },
      "outputs": [
        {
          "name": "stdout",
          "output_type": "stream",
          "text": [
            "Dataset\n",
            "        x   y  label\n",
            "0    4.0  53      1\n",
            "1    5.0  63      1\n",
            "2   10.0  59      1\n",
            "3    9.0  77      1\n",
            "4    NaN  49      1\n",
            "..   ...  ..    ...\n",
            "70   NaN  23      4\n",
            "71  61.0  25      4\n",
            "72  76.0  27      4\n",
            "73  72.0  31      4\n",
            "74  64.0  30      4\n",
            "\n",
            "[75 rows x 3 columns]\n",
            "\n",
            "\n",
            "Dataset setelah pengisian missing value\n",
            "             x   y  label\n",
            "0    4.000000  53      1\n",
            "1    5.000000  63      1\n",
            "2   10.000000  59      1\n",
            "3    9.000000  77      1\n",
            "4   19.125000  49      1\n",
            "..        ...  ..    ...\n",
            "70  69.538462  23      4\n",
            "71  61.000000  25      4\n",
            "72  76.000000  27      4\n",
            "73  72.000000  31      4\n",
            "74  64.000000  30      4\n",
            "\n",
            "[75 rows x 3 columns]\n"
          ]
        }
      ],
      "source": [
        "import pandas as pd\n",
        "\n",
        "# Membaca dataset dari file CSV\n",
        "dataset = pd.read_csv('ruspini_missing.csv')\n",
        "# Menampilkan dataset sebelum pengisian missing value\n",
        "print('Dataset\\n', dataset)\n",
        "# Mengisi nilai yang hilang dengan rata-rata berdasarkan grup 'CLASS'\n",
        "dataset = dataset.fillna(dataset.groupby('label').transform('mean'))\n",
        "# Menampilkan dataset setelah pengisian missing value\n",
        "print('\\n\\nDataset setelah pengisian missing value\\n', dataset)\n"
      ]
    },
    {
      "cell_type": "markdown",
      "metadata": {},
      "source": [
        "**ANALISIS**\n",
        "\n",
        "disini saya akan mengisi nilai missing tadi, pertama kita haurs mengelompokkan data dulu berdasarkan label agar kita bisa mengisikan nilai nan ini berdasarkan rata rata dari masing-masing kelas, kemudian menghitung nilai rata-rata dari setiap label. Kemudian menggunakan fungsi fillna untuk mengisi nilai NaN dengan nilai rata-rata dari masing-masing label"
      ]
    },
    {
      "cell_type": "markdown",
      "metadata": {
        "id": "UuWQL1aH6D1r"
      },
      "source": [
        "## Mencari nilai statistikal pada atribut"
      ]
    },
    {
      "cell_type": "code",
      "execution_count": null,
      "metadata": {
        "id": "0YvQsrhY6D1r",
        "outputId": "aa831341-d21c-4c99-bd05-fe9374a3e1a8"
      },
      "outputs": [
        {
          "name": "stdout",
          "output_type": "stream",
          "text": [
            "nilai minimum = 4\n",
            "nilai maksimum = 117\n",
            "nilai rata-rata = 54.88\n",
            "nilai deviasi standar = 30.50252980203977\n"
          ]
        }
      ],
      "source": [
        "import pandas as pd\n",
        "import numpy as np\n",
        "df = pd.read_csv('ruspini.csv')\n",
        "df_x= df['x']\n",
        "\n",
        "minval = df_x.min()\n",
        "maxval = df_x.max()\n",
        "avgval = df_x.mean()\n",
        "stdval = df_x.std()\n",
        "\n",
        "print('nilai minimum =', minval)\n",
        "print('nilai maksimum =', maxval)\n",
        "print('nilai rata-rata =', avgval)\n",
        "print('nilai deviasi standar =', stdval)"
      ]
    },
    {
      "cell_type": "markdown",
      "metadata": {
        "id": "TD0UHXew6D1s"
      },
      "source": [
        "## ASSIGNMENT MEET 3 DATA TITANIC"
      ]
    },
    {
      "cell_type": "code",
      "execution_count": null,
      "metadata": {
        "id": "HFB3dl8N6D1s",
        "outputId": "cf014f06-149c-4825-a900-2942b4a6cc53"
      },
      "outputs": [
        {
          "data": {
            "text/html": [
              "<div>\n",
              "<style scoped>\n",
              "    .dataframe tbody tr th:only-of-type {\n",
              "        vertical-align: middle;\n",
              "    }\n",
              "\n",
              "    .dataframe tbody tr th {\n",
              "        vertical-align: top;\n",
              "    }\n",
              "\n",
              "    .dataframe thead th {\n",
              "        text-align: right;\n",
              "    }\n",
              "</style>\n",
              "<table border=\"1\" class=\"dataframe\">\n",
              "  <thead>\n",
              "    <tr style=\"text-align: right;\">\n",
              "      <th></th>\n",
              "      <th>pclass</th>\n",
              "      <th>survived</th>\n",
              "      <th>name</th>\n",
              "      <th>sex</th>\n",
              "      <th>age</th>\n",
              "      <th>sibsp</th>\n",
              "      <th>parch</th>\n",
              "      <th>ticket</th>\n",
              "      <th>fare</th>\n",
              "      <th>cabin</th>\n",
              "      <th>embarked</th>\n",
              "      <th>boat</th>\n",
              "      <th>body</th>\n",
              "      <th>home.dest</th>\n",
              "    </tr>\n",
              "  </thead>\n",
              "  <tbody>\n",
              "    <tr>\n",
              "      <th>0</th>\n",
              "      <td>1</td>\n",
              "      <td>1</td>\n",
              "      <td>Allen, Miss. Elisabeth Walton</td>\n",
              "      <td>female</td>\n",
              "      <td>29.0000</td>\n",
              "      <td>0</td>\n",
              "      <td>0</td>\n",
              "      <td>24160</td>\n",
              "      <td>211.3375</td>\n",
              "      <td>B5</td>\n",
              "      <td>S</td>\n",
              "      <td>2</td>\n",
              "      <td>NaN</td>\n",
              "      <td>St Louis, MO</td>\n",
              "    </tr>\n",
              "    <tr>\n",
              "      <th>1</th>\n",
              "      <td>1</td>\n",
              "      <td>1</td>\n",
              "      <td>Allison, Master. Hudson Trevor</td>\n",
              "      <td>male</td>\n",
              "      <td>0.9167</td>\n",
              "      <td>1</td>\n",
              "      <td>2</td>\n",
              "      <td>113781</td>\n",
              "      <td>151.5500</td>\n",
              "      <td>C22 C26</td>\n",
              "      <td>S</td>\n",
              "      <td>11</td>\n",
              "      <td>NaN</td>\n",
              "      <td>Montreal, PQ / Chesterville, ON</td>\n",
              "    </tr>\n",
              "    <tr>\n",
              "      <th>2</th>\n",
              "      <td>1</td>\n",
              "      <td>0</td>\n",
              "      <td>Allison, Miss. Helen Loraine</td>\n",
              "      <td>female</td>\n",
              "      <td>2.0000</td>\n",
              "      <td>1</td>\n",
              "      <td>2</td>\n",
              "      <td>113781</td>\n",
              "      <td>151.5500</td>\n",
              "      <td>C22 C26</td>\n",
              "      <td>S</td>\n",
              "      <td>NaN</td>\n",
              "      <td>NaN</td>\n",
              "      <td>Montreal, PQ / Chesterville, ON</td>\n",
              "    </tr>\n",
              "    <tr>\n",
              "      <th>3</th>\n",
              "      <td>1</td>\n",
              "      <td>0</td>\n",
              "      <td>Allison, Mr. Hudson Joshua Creighton</td>\n",
              "      <td>male</td>\n",
              "      <td>30.0000</td>\n",
              "      <td>1</td>\n",
              "      <td>2</td>\n",
              "      <td>113781</td>\n",
              "      <td>151.5500</td>\n",
              "      <td>C22 C26</td>\n",
              "      <td>S</td>\n",
              "      <td>NaN</td>\n",
              "      <td>135.0</td>\n",
              "      <td>Montreal, PQ / Chesterville, ON</td>\n",
              "    </tr>\n",
              "    <tr>\n",
              "      <th>4</th>\n",
              "      <td>1</td>\n",
              "      <td>0</td>\n",
              "      <td>Allison, Mrs. Hudson J C (Bessie Waldo Daniels)</td>\n",
              "      <td>female</td>\n",
              "      <td>25.0000</td>\n",
              "      <td>1</td>\n",
              "      <td>2</td>\n",
              "      <td>113781</td>\n",
              "      <td>151.5500</td>\n",
              "      <td>C22 C26</td>\n",
              "      <td>S</td>\n",
              "      <td>NaN</td>\n",
              "      <td>NaN</td>\n",
              "      <td>Montreal, PQ / Chesterville, ON</td>\n",
              "    </tr>\n",
              "  </tbody>\n",
              "</table>\n",
              "</div>"
            ],
            "text/plain": [
              "   pclass  survived                                             name     sex  \\\n",
              "0       1         1                    Allen, Miss. Elisabeth Walton  female   \n",
              "1       1         1                   Allison, Master. Hudson Trevor    male   \n",
              "2       1         0                     Allison, Miss. Helen Loraine  female   \n",
              "3       1         0             Allison, Mr. Hudson Joshua Creighton    male   \n",
              "4       1         0  Allison, Mrs. Hudson J C (Bessie Waldo Daniels)  female   \n",
              "\n",
              "       age  sibsp  parch  ticket      fare    cabin embarked boat   body  \\\n",
              "0  29.0000      0      0   24160  211.3375       B5        S    2    NaN   \n",
              "1   0.9167      1      2  113781  151.5500  C22 C26        S   11    NaN   \n",
              "2   2.0000      1      2  113781  151.5500  C22 C26        S  NaN    NaN   \n",
              "3  30.0000      1      2  113781  151.5500  C22 C26        S  NaN  135.0   \n",
              "4  25.0000      1      2  113781  151.5500  C22 C26        S  NaN    NaN   \n",
              "\n",
              "                         home.dest  \n",
              "0                     St Louis, MO  \n",
              "1  Montreal, PQ / Chesterville, ON  \n",
              "2  Montreal, PQ / Chesterville, ON  \n",
              "3  Montreal, PQ / Chesterville, ON  \n",
              "4  Montreal, PQ / Chesterville, ON  "
            ]
          },
          "execution_count": 72,
          "metadata": {},
          "output_type": "execute_result"
        }
      ],
      "source": [
        "import pandas as pd\n",
        "import matplotlib.pyplot as plt\n",
        "import seaborn as sns\n",
        "df = pd.read_csv('titanic.csv')\n",
        "df.head()"
      ]
    },
    {
      "cell_type": "markdown",
      "metadata": {
        "id": "4gw00oFH6D1s"
      },
      "source": [
        "## Menampilkan jumlah baris dan kolom"
      ]
    },
    {
      "cell_type": "code",
      "execution_count": null,
      "metadata": {
        "id": "6PWDyxFk6D1t",
        "outputId": "8c95f260-cb95-4944-bbe3-c27989f69657"
      },
      "outputs": [
        {
          "name": "stdout",
          "output_type": "stream",
          "text": [
            "Jumlah baris: 1349, Jumlah kolom: 14\n"
          ]
        }
      ],
      "source": [
        "rows, cols = df.shape\n",
        "print(f\"Jumlah baris: {rows}, Jumlah kolom: {cols}\")"
      ]
    },
    {
      "cell_type": "markdown",
      "metadata": {
        "id": "JTnAAdHI6D1t"
      },
      "source": [
        "## menampilkan tipe masing-masing kolom"
      ]
    },
    {
      "cell_type": "code",
      "execution_count": null,
      "metadata": {
        "id": "hUtX0C836D1t",
        "outputId": "529abed9-b0e0-4e2f-d8e9-e9b35b60c7a7"
      },
      "outputs": [
        {
          "data": {
            "text/plain": [
              "pclass         int64\n",
              "survived       int64\n",
              "name          object\n",
              "sex           object\n",
              "age          float64\n",
              "sibsp          int64\n",
              "parch          int64\n",
              "ticket        object\n",
              "fare         float64\n",
              "cabin         object\n",
              "embarked      object\n",
              "boat          object\n",
              "body         float64\n",
              "home.dest     object\n",
              "dtype: object"
            ]
          },
          "execution_count": 74,
          "metadata": {},
          "output_type": "execute_result"
        }
      ],
      "source": [
        "df.dtypes"
      ]
    },
    {
      "cell_type": "markdown",
      "metadata": {
        "id": "e3Ad7hK86D1t"
      },
      "source": [
        "## ambil dataset kolom fitur (Age, Fare), dan tampilkan"
      ]
    },
    {
      "cell_type": "code",
      "execution_count": null,
      "metadata": {
        "id": "sAt16uBS6D1t",
        "outputId": "2f092817-f7e9-4be0-fec0-86e678508f8d"
      },
      "outputs": [
        {
          "data": {
            "text/html": [
              "<div>\n",
              "<style scoped>\n",
              "    .dataframe tbody tr th:only-of-type {\n",
              "        vertical-align: middle;\n",
              "    }\n",
              "\n",
              "    .dataframe tbody tr th {\n",
              "        vertical-align: top;\n",
              "    }\n",
              "\n",
              "    .dataframe thead th {\n",
              "        text-align: right;\n",
              "    }\n",
              "</style>\n",
              "<table border=\"1\" class=\"dataframe\">\n",
              "  <thead>\n",
              "    <tr style=\"text-align: right;\">\n",
              "      <th></th>\n",
              "      <th>age</th>\n",
              "      <th>fare</th>\n",
              "    </tr>\n",
              "  </thead>\n",
              "  <tbody>\n",
              "    <tr>\n",
              "      <th>0</th>\n",
              "      <td>29.0000</td>\n",
              "      <td>211.3375</td>\n",
              "    </tr>\n",
              "    <tr>\n",
              "      <th>1</th>\n",
              "      <td>0.9167</td>\n",
              "      <td>151.5500</td>\n",
              "    </tr>\n",
              "    <tr>\n",
              "      <th>2</th>\n",
              "      <td>2.0000</td>\n",
              "      <td>151.5500</td>\n",
              "    </tr>\n",
              "    <tr>\n",
              "      <th>3</th>\n",
              "      <td>30.0000</td>\n",
              "      <td>151.5500</td>\n",
              "    </tr>\n",
              "    <tr>\n",
              "      <th>4</th>\n",
              "      <td>25.0000</td>\n",
              "      <td>151.5500</td>\n",
              "    </tr>\n",
              "  </tbody>\n",
              "</table>\n",
              "</div>"
            ],
            "text/plain": [
              "       age      fare\n",
              "0  29.0000  211.3375\n",
              "1   0.9167  151.5500\n",
              "2   2.0000  151.5500\n",
              "3  30.0000  151.5500\n",
              "4  25.0000  151.5500"
            ]
          },
          "execution_count": 75,
          "metadata": {},
          "output_type": "execute_result"
        }
      ],
      "source": [
        "data = pd.DataFrame(df,columns=['age' ,'fare'])\n",
        "data.head()"
      ]
    },
    {
      "cell_type": "markdown",
      "metadata": {
        "id": "W7po5NvL6D1u"
      },
      "source": [
        "## ambil dataset kolom kelas (Survived)"
      ]
    },
    {
      "cell_type": "code",
      "execution_count": null,
      "metadata": {
        "id": "zbtnfvJ26D1u",
        "outputId": "bef8776a-f4b8-4e0f-c287-d64e2a99d961"
      },
      "outputs": [
        {
          "data": {
            "text/html": [
              "<div>\n",
              "<style scoped>\n",
              "    .dataframe tbody tr th:only-of-type {\n",
              "        vertical-align: middle;\n",
              "    }\n",
              "\n",
              "    .dataframe tbody tr th {\n",
              "        vertical-align: top;\n",
              "    }\n",
              "\n",
              "    .dataframe thead th {\n",
              "        text-align: right;\n",
              "    }\n",
              "</style>\n",
              "<table border=\"1\" class=\"dataframe\">\n",
              "  <thead>\n",
              "    <tr style=\"text-align: right;\">\n",
              "      <th></th>\n",
              "      <th>survived</th>\n",
              "    </tr>\n",
              "  </thead>\n",
              "  <tbody>\n",
              "    <tr>\n",
              "      <th>0</th>\n",
              "      <td>1</td>\n",
              "    </tr>\n",
              "    <tr>\n",
              "      <th>1</th>\n",
              "      <td>1</td>\n",
              "    </tr>\n",
              "    <tr>\n",
              "      <th>2</th>\n",
              "      <td>0</td>\n",
              "    </tr>\n",
              "    <tr>\n",
              "      <th>3</th>\n",
              "      <td>0</td>\n",
              "    </tr>\n",
              "    <tr>\n",
              "      <th>4</th>\n",
              "      <td>0</td>\n",
              "    </tr>\n",
              "  </tbody>\n",
              "</table>\n",
              "</div>"
            ],
            "text/plain": [
              "   survived\n",
              "0         1\n",
              "1         1\n",
              "2         0\n",
              "3         0\n",
              "4         0"
            ]
          },
          "execution_count": 77,
          "metadata": {},
          "output_type": "execute_result"
        }
      ],
      "source": [
        "data = pd.DataFrame(df,columns=['survived'])\n",
        "data.head()"
      ]
    },
    {
      "cell_type": "markdown",
      "metadata": {
        "id": "8Y3glgSO6D1u"
      },
      "source": [
        "# PENGECEKKAN MISSING VALUES PADA KOLOM AGE"
      ]
    },
    {
      "cell_type": "code",
      "execution_count": null,
      "metadata": {
        "id": "2DtomX706D1u",
        "outputId": "4b9aae9a-134d-4268-fbd5-aa2f8f1b20a0"
      },
      "outputs": [
        {
          "name": "stdout",
          "output_type": "stream",
          "text": [
            "Jumlah missing value fitur 'Age' :\n",
            " 273\n"
          ]
        }
      ],
      "source": [
        "print(\"Jumlah missing value fitur 'Age' :\\n\", df['age'].isna().sum())"
      ]
    },
    {
      "cell_type": "markdown",
      "metadata": {
        "id": "Q581Etum6D1v"
      },
      "source": [
        "# PENGISIAN NILAI MISSING VALUE PADA FITUR AGE"
      ]
    },
    {
      "cell_type": "code",
      "execution_count": null,
      "metadata": {
        "id": "UfbN5kJL6D1v",
        "outputId": "e05bb22f-116f-45bf-daf2-34a7e88886ac"
      },
      "outputs": [
        {
          "name": "stdout",
          "output_type": "stream",
          "text": [
            "\n",
            "Dataset setelah pengisian missing value:\n",
            "             age  survived\n",
            "0     29.000000         1\n",
            "1      0.916700         1\n",
            "2      2.000000         0\n",
            "3     30.000000         0\n",
            "4     25.000000         0\n",
            "...         ...       ...\n",
            "1344  14.500000         0\n",
            "1345  30.413575         0\n",
            "1346  26.500000         0\n",
            "1347  27.000000         0\n",
            "1348  29.000000         0\n",
            "\n",
            "[1349 rows x 2 columns]\n"
          ]
        }
      ],
      "source": [
        "import pandas as pd\n",
        "# Mengisi nilai yang hilang dalam kolom 'Age' berdasarkan rata-rata grup 'Survived'\n",
        "df['age'] = df.groupby('survived')['age'].transform(lambda x: x.fillna(x.mean()))\n",
        "# Menampilkan hasil setelah pengisian missing values\n",
        "print(\"\\nDataset setelah pengisian missing value:\\n\", df[['age', 'survived']])\n"
      ]
    },
    {
      "cell_type": "markdown",
      "metadata": {},
      "source": [
        "**ANALISIS**\n",
        "\n",
        "sama seperti tadi dilakukan pengelompokkan dengan groupby agar bisa mengisi nilai kosong berdasarkan nilai rata-rata dari masing-masing kelas. Disini saya mengelompookan berdasarkan kolom survived, kemudian pilih kolom age untuk diisi nilai nan nya dengan "
      ]
    },
    {
      "cell_type": "markdown",
      "metadata": {
        "id": "5plaojp26D1v"
      },
      "source": [
        "# MEMASTIKAN NILAI SUDAH TIDAK ADA YG MISSING"
      ]
    },
    {
      "cell_type": "code",
      "execution_count": null,
      "metadata": {
        "id": "Yh37kuAl6D1v",
        "outputId": "833fdcf6-20e0-4c8b-e703-c2e0c655af54"
      },
      "outputs": [
        {
          "name": "stdout",
          "output_type": "stream",
          "text": [
            "\n",
            "Jumlah missing value fitur age setelah handling missing value :\n",
            " 0\n"
          ]
        }
      ],
      "source": [
        "# Menampilkan jumlah missing value setelah pengisian\n",
        "print(\"\\nJumlah missing value fitur age setelah handling missing value :\\n\", df['age'].isna().sum())"
      ]
    },
    {
      "cell_type": "markdown",
      "metadata": {
        "id": "tfe6_pnv6D1v"
      },
      "source": [
        "# NORMALISASI"
      ]
    },
    {
      "cell_type": "code",
      "execution_count": null,
      "metadata": {
        "id": "ZmuXcbdc6D1v"
      },
      "outputs": [],
      "source": [
        "import pandas as pd\n",
        "import numpy as np\n",
        "from sklearn.preprocessing import MinMaxScaler, StandardScaler, Normalizer\n",
        "\n"
      ]
    },
    {
      "cell_type": "code",
      "execution_count": null,
      "metadata": {
        "id": "TlS63wZh6D1v",
        "outputId": "3a5fb969-ff84-4a6f-d3ad-f47e7cedf66f"
      },
      "outputs": [
        {
          "data": {
            "text/html": [
              "<div>\n",
              "<style scoped>\n",
              "    .dataframe tbody tr th:only-of-type {\n",
              "        vertical-align: middle;\n",
              "    }\n",
              "\n",
              "    .dataframe tbody tr th {\n",
              "        vertical-align: top;\n",
              "    }\n",
              "\n",
              "    .dataframe thead th {\n",
              "        text-align: right;\n",
              "    }\n",
              "</style>\n",
              "<table border=\"1\" class=\"dataframe\">\n",
              "  <thead>\n",
              "    <tr style=\"text-align: right;\">\n",
              "      <th></th>\n",
              "      <th>pclass</th>\n",
              "      <th>survived</th>\n",
              "      <th>name</th>\n",
              "      <th>sex</th>\n",
              "      <th>age</th>\n",
              "      <th>sibsp</th>\n",
              "      <th>parch</th>\n",
              "      <th>ticket</th>\n",
              "      <th>fare</th>\n",
              "      <th>cabin</th>\n",
              "      <th>embarked</th>\n",
              "      <th>boat</th>\n",
              "      <th>body</th>\n",
              "      <th>home.dest</th>\n",
              "    </tr>\n",
              "  </thead>\n",
              "  <tbody>\n",
              "    <tr>\n",
              "      <th>0</th>\n",
              "      <td>1</td>\n",
              "      <td>1</td>\n",
              "      <td>Allen, Miss. Elisabeth Walton</td>\n",
              "      <td>female</td>\n",
              "      <td>29.0000</td>\n",
              "      <td>0</td>\n",
              "      <td>0</td>\n",
              "      <td>24160</td>\n",
              "      <td>211.3375</td>\n",
              "      <td>B5</td>\n",
              "      <td>S</td>\n",
              "      <td>2.0000</td>\n",
              "      <td>166.0</td>\n",
              "      <td>St Louis, MO</td>\n",
              "    </tr>\n",
              "    <tr>\n",
              "      <th>1</th>\n",
              "      <td>1</td>\n",
              "      <td>1</td>\n",
              "      <td>Allison, Master. Hudson Trevor</td>\n",
              "      <td>male</td>\n",
              "      <td>0.9167</td>\n",
              "      <td>1</td>\n",
              "      <td>2</td>\n",
              "      <td>113781</td>\n",
              "      <td>151.5500</td>\n",
              "      <td>C22 C26</td>\n",
              "      <td>S</td>\n",
              "      <td>11.0000</td>\n",
              "      <td>166.0</td>\n",
              "      <td>Montreal, PQ / Chesterville, ON</td>\n",
              "    </tr>\n",
              "    <tr>\n",
              "      <th>2</th>\n",
              "      <td>1</td>\n",
              "      <td>0</td>\n",
              "      <td>Allison, Miss. Helen Loraine</td>\n",
              "      <td>female</td>\n",
              "      <td>2.0000</td>\n",
              "      <td>1</td>\n",
              "      <td>2</td>\n",
              "      <td>113781</td>\n",
              "      <td>151.5500</td>\n",
              "      <td>C22 C26</td>\n",
              "      <td>S</td>\n",
              "      <td>9.4025</td>\n",
              "      <td>166.0</td>\n",
              "      <td>Montreal, PQ / Chesterville, ON</td>\n",
              "    </tr>\n",
              "    <tr>\n",
              "      <th>3</th>\n",
              "      <td>1</td>\n",
              "      <td>0</td>\n",
              "      <td>Allison, Mr. Hudson Joshua Creighton</td>\n",
              "      <td>male</td>\n",
              "      <td>30.0000</td>\n",
              "      <td>1</td>\n",
              "      <td>2</td>\n",
              "      <td>113781</td>\n",
              "      <td>151.5500</td>\n",
              "      <td>C22 C26</td>\n",
              "      <td>S</td>\n",
              "      <td>9.4025</td>\n",
              "      <td>135.0</td>\n",
              "      <td>Montreal, PQ / Chesterville, ON</td>\n",
              "    </tr>\n",
              "    <tr>\n",
              "      <th>4</th>\n",
              "      <td>1</td>\n",
              "      <td>0</td>\n",
              "      <td>Allison, Mrs. Hudson J C (Bessie Waldo Daniels)</td>\n",
              "      <td>female</td>\n",
              "      <td>25.0000</td>\n",
              "      <td>1</td>\n",
              "      <td>2</td>\n",
              "      <td>113781</td>\n",
              "      <td>151.5500</td>\n",
              "      <td>C22 C26</td>\n",
              "      <td>S</td>\n",
              "      <td>9.4025</td>\n",
              "      <td>166.0</td>\n",
              "      <td>Montreal, PQ / Chesterville, ON</td>\n",
              "    </tr>\n",
              "  </tbody>\n",
              "</table>\n",
              "</div>"
            ],
            "text/plain": [
              "   pclass  survived                                             name     sex  \\\n",
              "0       1         1                    Allen, Miss. Elisabeth Walton  female   \n",
              "1       1         1                   Allison, Master. Hudson Trevor    male   \n",
              "2       1         0                     Allison, Miss. Helen Loraine  female   \n",
              "3       1         0             Allison, Mr. Hudson Joshua Creighton    male   \n",
              "4       1         0  Allison, Mrs. Hudson J C (Bessie Waldo Daniels)  female   \n",
              "\n",
              "       age  sibsp  parch  ticket      fare    cabin embarked     boat   body  \\\n",
              "0  29.0000      0      0   24160  211.3375       B5        S   2.0000  166.0   \n",
              "1   0.9167      1      2  113781  151.5500  C22 C26        S  11.0000  166.0   \n",
              "2   2.0000      1      2  113781  151.5500  C22 C26        S   9.4025  166.0   \n",
              "3  30.0000      1      2  113781  151.5500  C22 C26        S   9.4025  135.0   \n",
              "4  25.0000      1      2  113781  151.5500  C22 C26        S   9.4025  166.0   \n",
              "\n",
              "                         home.dest  \n",
              "0                     St Louis, MO  \n",
              "1  Montreal, PQ / Chesterville, ON  \n",
              "2  Montreal, PQ / Chesterville, ON  \n",
              "3  Montreal, PQ / Chesterville, ON  \n",
              "4  Montreal, PQ / Chesterville, ON  "
            ]
          },
          "execution_count": 91,
          "metadata": {},
          "output_type": "execute_result"
        }
      ],
      "source": [
        "df.head()"
      ]
    },
    {
      "cell_type": "code",
      "execution_count": null,
      "metadata": {
        "id": "qomuXg8-6D1w",
        "outputId": "23eb9d7f-a0e5-4120-e643-63cd4b2e8521"
      },
      "outputs": [
        {
          "data": {
            "text/plain": [
              "pclass         int64\n",
              "survived       int64\n",
              "name          object\n",
              "sex           object\n",
              "age          float64\n",
              "sibsp          int64\n",
              "parch          int64\n",
              "ticket        object\n",
              "fare         float64\n",
              "cabin         object\n",
              "embarked      object\n",
              "boat         float64\n",
              "body         float64\n",
              "home.dest     object\n",
              "dtype: object"
            ]
          },
          "execution_count": 92,
          "metadata": {},
          "output_type": "execute_result"
        }
      ],
      "source": [
        "df.dtypes"
      ]
    },
    {
      "cell_type": "markdown",
      "metadata": {
        "id": "dsYxmcPj6D1w"
      },
      "source": [
        "*Menghapus kolom selain age dan fare, dan melakukan normalisasi pada kolom age dan fare yang memiliki rentang atau yang cukup tinggi*"
      ]
    },
    {
      "cell_type": "code",
      "execution_count": null,
      "metadata": {
        "id": "qD9sHVVy6D1w",
        "outputId": "33f29e28-4f33-4705-ef53-d61831b3c838"
      },
      "outputs": [
        {
          "name": "stdout",
          "output_type": "stream",
          "text": [
            "Kolom setelah penghapusan: ['age', 'fare']\n",
            "       age      fare\n",
            "0  29.0000  211.3375\n",
            "1   0.9167  151.5500\n",
            "2   2.0000  151.5500\n",
            "3  30.0000  151.5500\n",
            "4  25.0000  151.5500\n"
          ]
        }
      ],
      "source": [
        "# Daftar kolom yang akan dihapus\n",
        "kolom_dihapus = ['pclass', 'survived', 'name', 'sex', 'sibsp', 'parch',\n",
        "                 'ticket', 'cabin', 'embarked', 'boat', 'body', 'home.dest']\n",
        "# Menghapus kolom-kolom tersebut dari DataFrame\n",
        "df_norm = df.drop(columns=kolom_dihapus)\n",
        "# Menampilkan hasil\n",
        "print(\"Kolom setelah penghapusan:\", df_norm.columns.tolist())\n",
        "print(df_norm.head())\n"
      ]
    },
    {
      "cell_type": "markdown",
      "metadata": {
        "id": "xxQ4tf__6D1w"
      },
      "source": [
        "*A). min-max libray*"
      ]
    },
    {
      "cell_type": "code",
      "execution_count": null,
      "metadata": {
        "id": "RDLkgI-y6D1w",
        "outputId": "33a9461c-e319-454f-8a76-bcdb4176f175"
      },
      "outputs": [
        {
          "name": "stdout",
          "output_type": "stream",
          "text": [
            "Normalisasi Min-Max:\n",
            "            age      fare\n",
            "0     0.361169  0.412503\n",
            "1     0.009395  0.295806\n",
            "2     0.022964  0.295806\n",
            "3     0.373695  0.295806\n",
            "4     0.311064  0.295806\n",
            "...        ...       ...\n",
            "1344  0.179540  0.028213\n",
            "1345  0.378875  0.028213\n",
            "1346  0.329854  0.014102\n",
            "1347  0.336117  0.014102\n",
            "1348  0.361169  0.015371\n",
            "\n",
            "[1349 rows x 2 columns]\n"
          ]
        }
      ],
      "source": [
        "minmax_scaler = MinMaxScaler()\n",
        "df_minmax = pd.DataFrame(minmax_scaler.fit_transform(df_norm), columns=df_norm.columns)\n",
        "print(\"Normalisasi Min-Max:\\n\", df_minmax)"
      ]
    },
    {
      "cell_type": "markdown",
      "metadata": {
        "id": "z50H28ob6D1w"
      },
      "source": [
        "*A). min-max manual*"
      ]
    },
    {
      "cell_type": "code",
      "execution_count": null,
      "metadata": {
        "id": "lsrbmzv06D1w",
        "outputId": "7cdf54d6-25f4-462d-b234-2324c41963e5"
      },
      "outputs": [
        {
          "name": "stdout",
          "output_type": "stream",
          "text": [
            "Dataset setelah normalisasi:\n",
            "            age      fare\n",
            "0     0.361169  0.412503\n",
            "1     0.009395  0.295806\n",
            "2     0.022964  0.295806\n",
            "3     0.373695  0.295806\n",
            "4     0.311064  0.295806\n",
            "...        ...       ...\n",
            "1344  0.179540  0.028213\n",
            "1345  0.378875  0.028213\n",
            "1346  0.329854  0.014102\n",
            "1347  0.336117  0.014102\n",
            "1348  0.361169  0.015371\n",
            "\n",
            "[1349 rows x 2 columns]\n"
          ]
        }
      ],
      "source": [
        "df = pd.DataFrame(df_norm)\n",
        "# Normalisasi manual menggunakan Min-Max Scaling\n",
        "def min_max_normalize(column):\n",
        "    return (column - column.min()) / (column.max() - column.min())\n",
        "# Menerapkan normalisasi ke setiap kolom\n",
        "df_normalized_manual = df.apply(min_max_normalize)\n",
        "# Menampilkan hasil normalisasi\n",
        "print(\"Dataset setelah normalisasi:\\n\", df_normalized_manual)"
      ]
    },
    {
      "cell_type": "markdown",
      "metadata": {},
      "source": [
        "**ANALISIS**\n",
        "\n",
        "Metode minmax ini akan merubah skala data dari 0-1 "
      ]
    },
    {
      "cell_type": "markdown",
      "metadata": {
        "id": "_7uFZbRr6D1w"
      },
      "source": [
        "*B). z-score atau standardscaler menggunakan library*"
      ]
    },
    {
      "cell_type": "code",
      "execution_count": null,
      "metadata": {
        "id": "Tq3vUhgp6D1x",
        "outputId": "83df4042-6dec-4b7e-a6ac-e5e64ce86a3e"
      },
      "outputs": [
        {
          "name": "stdout",
          "output_type": "stream",
          "text": [
            "\n",
            "Normalisasi Z-Score:\n",
            "            age      fare\n",
            "0    -0.074596  3.495574\n",
            "1    -2.271560  2.325659\n",
            "2    -2.186814  2.325659\n",
            "3     0.003634  2.325659\n",
            "4    -0.387517  2.325659\n",
            "...        ...       ...\n",
            "1344 -1.208935 -0.357017\n",
            "1345  0.035989 -0.357017\n",
            "1346 -0.270172 -0.498477\n",
            "1347 -0.231056 -0.498477\n",
            "1348 -0.074596 -0.485758\n",
            "\n",
            "[1349 rows x 2 columns]\n"
          ]
        }
      ],
      "source": [
        "zscore_scaler = StandardScaler()\n",
        "df_zscore = pd.DataFrame(zscore_scaler.fit_transform(df_norm), columns=df_norm.columns)\n",
        "print(\"\\nNormalisasi Z-Score:\\n\", df_zscore)"
      ]
    },
    {
      "cell_type": "markdown",
      "metadata": {},
      "source": [
        "**ANALISIS**\n",
        "\n",
        "zscore ini menormalisasi data dengan merubah nilai agar data\n",
        " memiliki mean 0 dan standar deviasi 1"
      ]
    },
    {
      "cell_type": "markdown",
      "metadata": {
        "id": "egr_a9_d6D1x"
      },
      "source": [
        "*B). z-score atau standardscaler manual*"
      ]
    },
    {
      "cell_type": "code",
      "execution_count": null,
      "metadata": {
        "id": "RoM7YOz_6D1x",
        "outputId": "3a70e841-f264-44db-d36d-574123d13575"
      },
      "outputs": [
        {
          "name": "stdout",
          "output_type": "stream",
          "text": [
            "Dataset setelah standardisasi Z-Score:\n",
            "            age      fare\n",
            "0    -0.074568  3.494278\n",
            "1    -2.270718  2.324797\n",
            "2    -2.186003  2.324797\n",
            "3     0.003633  2.324797\n",
            "4    -0.387373  2.324797\n",
            "...        ...       ...\n",
            "1344 -1.208487 -0.356885\n",
            "1345  0.035975 -0.356885\n",
            "1346 -0.270071 -0.498292\n",
            "1347 -0.230971 -0.498292\n",
            "1348 -0.074568 -0.485578\n",
            "\n",
            "[1349 rows x 2 columns]\n"
          ]
        }
      ],
      "source": [
        "df = pd.DataFrame(df_norm)\n",
        "# Standardisasi Z-Score manual\n",
        "def z_score_normalize(column):\n",
        "    return (column - column.mean()) / column.std()\n",
        "# Menerapkan standardisasi Z-Score ke setiap kolom\n",
        "df_zscore_manual = df.apply(z_score_normalize)\n",
        "# Menampilkan hasil standardisasi\n",
        "print(\"Dataset setelah standardisasi Z-Score:\\n\", df_zscore_manual)"
      ]
    },
    {
      "cell_type": "markdown",
      "metadata": {},
      "source": [
        "Pada Tahap ini saya melakukan normalisasi dengan menggunakan z-score scaller secara manual,untuk\n",
        " memudahkanya saya membuat suatu fungsi bernama z_score_normalize.\n",
        " Output yang dihasilkan normalisasi secara manual memiliki hasil yang sedikit berbeda dengan output dengan\n",
        " normalisasi dengan bantuan library, hal ini disebabkan karena perhitungan standar deviasi, pada normalisasi\n",
        " dengan library StandardScaer () perhitungan standar deviasi menggunakan populasi, sedangkan normalisasi\n",
        " manual menggunakan library pandas, pandas ini menggunakan standar deviasi sampel, selain itu terdapat\n",
        " perbedaan dalam menangani data. Pada  StandardScaler() mengubah data ke dalam bentuk NumPy array\n",
        " sebelum melakukan perhitungan, sedangkan Pandas melakukan operasi secara kolom per kolom.\n"
      ]
    },
    {
      "cell_type": "markdown",
      "metadata": {
        "id": "9FdDbOvb6D1x"
      },
      "source": [
        "*C).sigmoidal menggunakan library*"
      ]
    },
    {
      "cell_type": "code",
      "execution_count": null,
      "metadata": {
        "id": "aCxg-pWC6D12",
        "outputId": "12fe4fd9-9855-43e3-c15f-a944c04d5c11"
      },
      "outputs": [
        {
          "name": "stdout",
          "output_type": "stream",
          "text": [
            "           age      fare\n",
            "0     1.000000  1.000000\n",
            "1     0.714369  1.000000\n",
            "2     0.880797  1.000000\n",
            "3     1.000000  1.000000\n",
            "4     1.000000  1.000000\n",
            "...        ...       ...\n",
            "1344  0.999999  0.999999\n",
            "1345  1.000000  0.999999\n",
            "1346  1.000000  0.999272\n",
            "1347  1.000000  0.999272\n",
            "1348  1.000000  0.999620\n",
            "\n",
            "[1349 rows x 2 columns]\n"
          ]
        },
        {
          "name": "stderr",
          "output_type": "stream",
          "text": [
            "C:\\Users\\nimaa\\AppData\\Local\\Temp\\ipykernel_15468\\3655355922.py:5: FutureWarning: DataFrame.applymap has been deprecated. Use DataFrame.map instead.\n",
            "  df_sigmoid = df.applymap(expit)\n"
          ]
        }
      ],
      "source": [
        "from scipy.special import expit\n",
        "import pandas as pd\n",
        "df = pd.DataFrame(df_norm)\n",
        "\n",
        "df_sigmoid = df.applymap(expit)\n",
        "print(df_sigmoid)"
      ]
    },
    {
      "cell_type": "markdown",
      "metadata": {},
      "source": [
        "**ANALISIS**\n",
        "normalisasi sigmoidal ini menggunakan fugsi sigmoid hasilnya biasanya anatara 0 dan 1 tapi bisa mendekati 0 atau 1\n"
      ]
    },
    {
      "cell_type": "markdown",
      "metadata": {
        "id": "sq7lNwoX6D13"
      },
      "source": [
        "*C).sigmoidal secara manual*"
      ]
    },
    {
      "cell_type": "code",
      "execution_count": null,
      "metadata": {
        "id": "i3ZcheJh6D13",
        "outputId": "dc643b16-3f02-458f-995a-110ea1709a91"
      },
      "outputs": [
        {
          "name": "stdout",
          "output_type": "stream",
          "text": [
            "Dataset setelah normalisasi Sigmoid:\n",
            "            age      fare\n",
            "0     1.000000  1.000000\n",
            "1     0.714369  1.000000\n",
            "2     0.880797  1.000000\n",
            "3     1.000000  1.000000\n",
            "4     1.000000  1.000000\n",
            "...        ...       ...\n",
            "1344  0.999999  0.999999\n",
            "1345  1.000000  0.999999\n",
            "1346  1.000000  0.999272\n",
            "1347  1.000000  0.999272\n",
            "1348  1.000000  0.999620\n",
            "\n",
            "[1349 rows x 2 columns]\n"
          ]
        }
      ],
      "source": [
        "df = pd.DataFrame(df_norm)\n",
        "# Normalisasi Sigmoid manual\n",
        "def sigmoid_normalize(column):\n",
        "    return 1 / (1 + np.exp(-column))\n",
        "# Menerapkan normalisasi Sigmoid ke setiap kolom\n",
        "df_sigmoid_manual = df.apply(sigmoid_normalize)\n",
        "# Menampilkan hasil normalisasi\n",
        "print(\"Dataset setelah normalisasi Sigmoid:\\n\", df_sigmoid_manual)"
      ]
    }
  ],
  "metadata": {
    "colab": {
      "provenance": []
    },
    "kernelspec": {
      "display_name": "Python 3",
      "language": "python",
      "name": "python3"
    },
    "language_info": {
      "codemirror_mode": {
        "name": "ipython",
        "version": 3
      },
      "file_extension": ".py",
      "mimetype": "text/x-python",
      "name": "python",
      "nbconvert_exporter": "python",
      "pygments_lexer": "ipython3",
      "version": "3.11.4"
    }
  },
  "nbformat": 4,
  "nbformat_minor": 0
}
